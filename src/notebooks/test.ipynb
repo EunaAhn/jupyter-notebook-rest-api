{
 "cells": [
  {
   "cell_type": "code",
   "execution_count": 1,
   "metadata": {},
   "outputs": [
    {
     "name": "stdout",
     "output_type": "stream",
     "text": [
      "{\"new_member_renewal_probability\":\"16.78%\"}\n"
     ]
    }
   ],
   "source": [
    "import requests\n",
    "import json\n",
    "\n",
    "member_data = {\n",
    "    \"enroll_year\": 2023,\n",
    "    \"contract_duration\": 92,\n",
    "    \"total_contract_amount\": 3094230,\n",
    "    \"payment_type\": \"BUYER\"\n",
    "}\n",
    "\n",
    "r = requests.post(\"http://localhost:8000/notebook/member.ipynb\", json=member_data)\n",
    "print(r.text)"
   ]
  }
 ],
 "metadata": {
  "interpreter": {
   "hash": "36cf16204b8548560b1c020c4e8fb5b57f0e4c58016f52f2d4be01e192833930"
  },
  "kernelspec": {
   "display_name": "Python 3.9.4 64-bit",
   "name": "python3"
  },
  "language_info": {
   "codemirror_mode": {
    "name": "ipython",
    "version": 3
   },
   "file_extension": ".py",
   "mimetype": "text/x-python",
   "name": "python",
   "nbconvert_exporter": "python",
   "pygments_lexer": "ipython3",
   "version": "3.10.14"
  },
  "orig_nbformat": 4
 },
 "nbformat": 4,
 "nbformat_minor": 2
}
